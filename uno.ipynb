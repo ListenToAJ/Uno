{
 "cells": [
  {
   "cell_type": "code",
   "execution_count": 12,
   "metadata": {},
   "outputs": [
    {
     "name": "stdout",
     "output_type": "stream",
     "text": [
      "[Blue 7, Yellow 8, Yellow 3, Blue 6, Yellow Reverse, Red 5, Red Skip, Blue 4, Red Draw 2, Blue Reverse, Red Reverse, Yellow 9, Red 7, Red 4, Blue 3, Blue 9, Red 1, Green 6, Red 6, Yellow Draw 2, Blue 8, Yellow 2, Red 8, Green Reverse, Green 5, Red 3, Red 2, Blue Draw 2, Green Skip, Yellow Skip, Black Wild Draw 4, Yellow 4, Red 0, Black Wild Draw 4, Yellow 6, Black Wild, Green 8, Yellow 7, Green 2, Green 0, Yellow 5, Blue 1, Green 4, Yellow 0, Green 3, Blue 2, Red 9, Black Wild, Yellow 1, Blue 5, Green Draw 2, Blue 0, Blue Skip, Green 9, Green 1, Green 7]\n"
     ]
    }
   ],
   "source": [
    "import random\n",
    "\n",
    "#~ Globals\n",
    "class Card:\n",
    "    def __init__(self, value, color):\n",
    "        self.value = value\n",
    "        self.color = color\n",
    "    def __repr__(self): \n",
    "        return self.color + \" \" + self.value\n",
    "\n",
    "#~ Deck Building \n",
    "colors = [\"Green\", \"Blue\", \"Yellow\", \"Red\"]\n",
    "fullDeck = []\n",
    "\n",
    "#- Colors\n",
    "for color in colors:\n",
    "    for i in range(0,13):\n",
    "        value = str(i)\n",
    "        match i:\n",
    "            case 10:\n",
    "                value = \"Skip\"\n",
    "            case 11:\n",
    "                value = \"Reverse\"\n",
    "            case 12:\n",
    "                value = \"Draw 2\"\n",
    "        fullDeck.append(Card(value, color))\n",
    "#- Wildcards\n",
    "for i in range(0,4):\n",
    "    if i % 2 == 0:\n",
    "        fullDeck.append(Card(\"Wild\", \"Black\"))\n",
    "    else:\n",
    "        fullDeck.append(Card(\"Wild Draw 4\", \"Black\"))\n",
    "\n",
    "#~ Functions\n",
    "def shuffleCards(arr):\n",
    "    random.shuffle(arr)"
   ]
  }
 ],
 "metadata": {
  "kernelspec": {
   "display_name": "Python 3",
   "language": "python",
   "name": "python3"
  },
  "language_info": {
   "codemirror_mode": {
    "name": "ipython",
    "version": 3
   },
   "file_extension": ".py",
   "mimetype": "text/x-python",
   "name": "python",
   "nbconvert_exporter": "python",
   "pygments_lexer": "ipython3",
   "version": "3.12.6"
  }
 },
 "nbformat": 4,
 "nbformat_minor": 2
}
